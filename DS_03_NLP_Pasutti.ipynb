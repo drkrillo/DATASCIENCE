{
  "nbformat": 4,
  "nbformat_minor": 5,
  "metadata": {
    "colab": {
      "name": "DS_03_Pasutti.ipynb",
      "provenance": [],
      "collapsed_sections": [],
      "include_colab_link": true
    },
    "kernelspec": {
      "display_name": "datascience",
      "language": "python",
      "name": "datascience"
    },
    "language_info": {
      "codemirror_mode": {
        "name": "ipython",
        "version": 3
      },
      "file_extension": ".py",
      "mimetype": "text/x-python",
      "name": "python",
      "nbconvert_exporter": "python",
      "pygments_lexer": "ipython3",
      "version": "3.9.6"
    }
  },
  "cells": [
    {
      "cell_type": "markdown",
      "metadata": {
        "id": "view-in-github",
        "colab_type": "text"
      },
      "source": [
        "<a href=\"https://colab.research.google.com/github/drkrillo/DATASCIENCE/blob/main/DS_03_NLP_Pasutti.ipynb\" target=\"_parent\"><img src=\"https://colab.research.google.com/assets/colab-badge.svg\" alt=\"Open In Colab\"/></a>"
      ]
    },
    {
      "cell_type": "code",
      "metadata": {
        "colab": {
          "base_uri": "https://localhost:8080/"
        },
        "id": "ad6b2ce9",
        "outputId": "457c5437-798f-4d6b-f8c0-10f1495fa0b4"
      },
      "source": [
        "!python -m spacy download es_core_news_sm"
      ],
      "id": "ad6b2ce9",
      "execution_count": null,
      "outputs": [
        {
          "output_type": "stream",
          "text": [
            "Collecting es_core_news_sm==2.2.5\n",
            "  Downloading https://github.com/explosion/spacy-models/releases/download/es_core_news_sm-2.2.5/es_core_news_sm-2.2.5.tar.gz (16.2 MB)\n",
            "\u001b[K     |████████████████████████████████| 16.2 MB 8.5 MB/s \n",
            "\u001b[?25hRequirement already satisfied: spacy>=2.2.2 in /usr/local/lib/python3.7/dist-packages (from es_core_news_sm==2.2.5) (2.2.4)\n",
            "Requirement already satisfied: setuptools in /usr/local/lib/python3.7/dist-packages (from spacy>=2.2.2->es_core_news_sm==2.2.5) (57.4.0)\n",
            "Requirement already satisfied: catalogue<1.1.0,>=0.0.7 in /usr/local/lib/python3.7/dist-packages (from spacy>=2.2.2->es_core_news_sm==2.2.5) (1.0.0)\n",
            "Requirement already satisfied: numpy>=1.15.0 in /usr/local/lib/python3.7/dist-packages (from spacy>=2.2.2->es_core_news_sm==2.2.5) (1.19.5)\n",
            "Requirement already satisfied: requests<3.0.0,>=2.13.0 in /usr/local/lib/python3.7/dist-packages (from spacy>=2.2.2->es_core_news_sm==2.2.5) (2.23.0)\n",
            "Requirement already satisfied: tqdm<5.0.0,>=4.38.0 in /usr/local/lib/python3.7/dist-packages (from spacy>=2.2.2->es_core_news_sm==2.2.5) (4.62.0)\n",
            "Requirement already satisfied: preshed<3.1.0,>=3.0.2 in /usr/local/lib/python3.7/dist-packages (from spacy>=2.2.2->es_core_news_sm==2.2.5) (3.0.5)\n",
            "Requirement already satisfied: srsly<1.1.0,>=1.0.2 in /usr/local/lib/python3.7/dist-packages (from spacy>=2.2.2->es_core_news_sm==2.2.5) (1.0.5)\n",
            "Requirement already satisfied: plac<1.2.0,>=0.9.6 in /usr/local/lib/python3.7/dist-packages (from spacy>=2.2.2->es_core_news_sm==2.2.5) (1.1.3)\n",
            "Requirement already satisfied: murmurhash<1.1.0,>=0.28.0 in /usr/local/lib/python3.7/dist-packages (from spacy>=2.2.2->es_core_news_sm==2.2.5) (1.0.5)\n",
            "Requirement already satisfied: thinc==7.4.0 in /usr/local/lib/python3.7/dist-packages (from spacy>=2.2.2->es_core_news_sm==2.2.5) (7.4.0)\n",
            "Requirement already satisfied: wasabi<1.1.0,>=0.4.0 in /usr/local/lib/python3.7/dist-packages (from spacy>=2.2.2->es_core_news_sm==2.2.5) (0.8.2)\n",
            "Requirement already satisfied: cymem<2.1.0,>=2.0.2 in /usr/local/lib/python3.7/dist-packages (from spacy>=2.2.2->es_core_news_sm==2.2.5) (2.0.5)\n",
            "Requirement already satisfied: blis<0.5.0,>=0.4.0 in /usr/local/lib/python3.7/dist-packages (from spacy>=2.2.2->es_core_news_sm==2.2.5) (0.4.1)\n",
            "Requirement already satisfied: importlib-metadata>=0.20 in /usr/local/lib/python3.7/dist-packages (from catalogue<1.1.0,>=0.0.7->spacy>=2.2.2->es_core_news_sm==2.2.5) (4.6.4)\n",
            "Requirement already satisfied: zipp>=0.5 in /usr/local/lib/python3.7/dist-packages (from importlib-metadata>=0.20->catalogue<1.1.0,>=0.0.7->spacy>=2.2.2->es_core_news_sm==2.2.5) (3.5.0)\n",
            "Requirement already satisfied: typing-extensions>=3.6.4 in /usr/local/lib/python3.7/dist-packages (from importlib-metadata>=0.20->catalogue<1.1.0,>=0.0.7->spacy>=2.2.2->es_core_news_sm==2.2.5) (3.7.4.3)\n",
            "Requirement already satisfied: chardet<4,>=3.0.2 in /usr/local/lib/python3.7/dist-packages (from requests<3.0.0,>=2.13.0->spacy>=2.2.2->es_core_news_sm==2.2.5) (3.0.4)\n",
            "Requirement already satisfied: certifi>=2017.4.17 in /usr/local/lib/python3.7/dist-packages (from requests<3.0.0,>=2.13.0->spacy>=2.2.2->es_core_news_sm==2.2.5) (2021.5.30)\n",
            "Requirement already satisfied: urllib3!=1.25.0,!=1.25.1,<1.26,>=1.21.1 in /usr/local/lib/python3.7/dist-packages (from requests<3.0.0,>=2.13.0->spacy>=2.2.2->es_core_news_sm==2.2.5) (1.24.3)\n",
            "Requirement already satisfied: idna<3,>=2.5 in /usr/local/lib/python3.7/dist-packages (from requests<3.0.0,>=2.13.0->spacy>=2.2.2->es_core_news_sm==2.2.5) (2.10)\n",
            "\u001b[38;5;2m✔ Download and installation successful\u001b[0m\n",
            "You can now load the model via spacy.load('es_core_news_sm')\n"
          ],
          "name": "stdout"
        }
      ]
    },
    {
      "cell_type": "code",
      "metadata": {
        "colab": {
          "base_uri": "https://localhost:8080/"
        },
        "id": "4fyy2d4tRXHX",
        "outputId": "c7d87626-ed04-4be8-a11f-cc5ce940cd1f"
      },
      "source": [
        "import pandas as pd\n",
        "import spacy\n",
        "import seaborn as sns\n",
        "import matplotlib.pyplot as plt\n",
        "import nltk\n",
        "import itertools\n",
        "import sklearn\n",
        "from sklearn.model_selection import KFold, cross_val_score\n",
        "from sklearn.feature_extraction.text import CountVectorizer, TfidfVectorizer\n",
        "from nltk.stem import PorterStemmer\n",
        "from nltk.corpus import stopwords\n",
        "nltk.download('punkt')\n",
        "nltk.download('stopwords')\n",
        "from xgboost import XGBClassifier\n",
        "from sklearn.metrics import confusion_matrix, mean_squared_error, accuracy_score\n",
        "import seaborn as sns\n",
        "import os\n",
        "import re\n",
        "from unicodedata import normalize"
      ],
      "id": "4fyy2d4tRXHX",
      "execution_count": null,
      "outputs": [
        {
          "output_type": "stream",
          "text": [
            "[nltk_data] Downloading package punkt to /root/nltk_data...\n",
            "[nltk_data]   Package punkt is already up-to-date!\n",
            "[nltk_data] Downloading package stopwords to /root/nltk_data...\n",
            "[nltk_data]   Package stopwords is already up-to-date!\n"
          ],
          "name": "stdout"
        }
      ]
    },
    {
      "cell_type": "code",
      "metadata": {
        "colab": {
          "base_uri": "https://localhost:8080/"
        },
        "id": "6bcde2ac",
        "outputId": "2d7db31e-99b1-4b19-fa99-b13da795b558"
      },
      "source": [
        "#train = pd.read_json('dataset_es_train.json', lines = True)\n",
        "#print(train.head(), '\\n', train.shape)\n",
        "\n",
        "#dev = pd.read_json('dataset_es_dev.json', lines = True)\n",
        "#print(dev.head(), '\\n', train.shape)\n",
        "\n",
        "from google.colab import drive\n",
        "drive.mount('/content/gdrive')"
      ],
      "id": "6bcde2ac",
      "execution_count": null,
      "outputs": [
        {
          "output_type": "stream",
          "text": [
            "Drive already mounted at /content/gdrive; to attempt to forcibly remount, call drive.mount(\"/content/gdrive\", force_remount=True).\n"
          ],
          "name": "stdout"
        }
      ]
    },
    {
      "cell_type": "code",
      "metadata": {
        "colab": {
          "base_uri": "https://localhost:8080/"
        },
        "id": "aw55kSjIg3ZF",
        "outputId": "b2031263-8bb6-41a6-8bbc-f31dd7f0c18a"
      },
      "source": [
        "cd /content/gdrive/MyDrive/DATASCIENCE"
      ],
      "id": "aw55kSjIg3ZF",
      "execution_count": null,
      "outputs": [
        {
          "output_type": "stream",
          "text": [
            "/content/gdrive/MyDrive/DATASCIENCE\n"
          ],
          "name": "stdout"
        }
      ]
    },
    {
      "cell_type": "code",
      "metadata": {
        "id": "57ea8489"
      },
      "source": [
        "train = pd.read_json('dataset_es_train.json', lines = True)\n",
        "test = pd.read_json('dataset_es_test.json', lines = True)\n",
        "dev = pd.read_json('dataset_es_dev.json', lines = True)"
      ],
      "id": "57ea8489",
      "execution_count": null,
      "outputs": []
    },
    {
      "cell_type": "code",
      "metadata": {
        "colab": {
          "base_uri": "https://localhost:8080/",
          "height": 272
        },
        "id": "kLnnJhfmQH6b",
        "outputId": "fc587350-b048-4870-af71-d5707b46abbf"
      },
      "source": [
        "train.head()"
      ],
      "id": "kLnnJhfmQH6b",
      "execution_count": null,
      "outputs": [
        {
          "output_type": "execute_result",
          "data": {
            "text/html": [
              "<div>\n",
              "<style scoped>\n",
              "    .dataframe tbody tr th:only-of-type {\n",
              "        vertical-align: middle;\n",
              "    }\n",
              "\n",
              "    .dataframe tbody tr th {\n",
              "        vertical-align: top;\n",
              "    }\n",
              "\n",
              "    .dataframe thead th {\n",
              "        text-align: right;\n",
              "    }\n",
              "</style>\n",
              "<table border=\"1\" class=\"dataframe\">\n",
              "  <thead>\n",
              "    <tr style=\"text-align: right;\">\n",
              "      <th></th>\n",
              "      <th>review_id</th>\n",
              "      <th>product_id</th>\n",
              "      <th>reviewer_id</th>\n",
              "      <th>stars</th>\n",
              "      <th>review_body</th>\n",
              "      <th>review_title</th>\n",
              "      <th>language</th>\n",
              "      <th>product_category</th>\n",
              "    </tr>\n",
              "  </thead>\n",
              "  <tbody>\n",
              "    <tr>\n",
              "      <th>0</th>\n",
              "      <td>es_0491108</td>\n",
              "      <td>product_es_0296024</td>\n",
              "      <td>reviewer_es_0999081</td>\n",
              "      <td>1</td>\n",
              "      <td>Nada bueno se me fue ka pantalla en menos de 8...</td>\n",
              "      <td>television Nevir</td>\n",
              "      <td>es</td>\n",
              "      <td>electronics</td>\n",
              "    </tr>\n",
              "    <tr>\n",
              "      <th>1</th>\n",
              "      <td>es_0869872</td>\n",
              "      <td>product_es_0922286</td>\n",
              "      <td>reviewer_es_0216771</td>\n",
              "      <td>1</td>\n",
              "      <td>Horrible, nos tuvimos que comprar otro porque ...</td>\n",
              "      <td>Dinero tirado a la basura con esta compra</td>\n",
              "      <td>es</td>\n",
              "      <td>electronics</td>\n",
              "    </tr>\n",
              "    <tr>\n",
              "      <th>2</th>\n",
              "      <td>es_0811721</td>\n",
              "      <td>product_es_0474543</td>\n",
              "      <td>reviewer_es_0929213</td>\n",
              "      <td>1</td>\n",
              "      <td>Te obligan a comprar dos unidades y te llega s...</td>\n",
              "      <td>solo llega una unidad cuando te obligan a comp...</td>\n",
              "      <td>es</td>\n",
              "      <td>drugstore</td>\n",
              "    </tr>\n",
              "    <tr>\n",
              "      <th>3</th>\n",
              "      <td>es_0359921</td>\n",
              "      <td>product_es_0656090</td>\n",
              "      <td>reviewer_es_0224702</td>\n",
              "      <td>1</td>\n",
              "      <td>No entro en descalificar al vendedor, solo pue...</td>\n",
              "      <td>PRODUCTO NO RECIBIDO.</td>\n",
              "      <td>es</td>\n",
              "      <td>wireless</td>\n",
              "    </tr>\n",
              "    <tr>\n",
              "      <th>4</th>\n",
              "      <td>es_0068940</td>\n",
              "      <td>product_es_0662544</td>\n",
              "      <td>reviewer_es_0224827</td>\n",
              "      <td>1</td>\n",
              "      <td>Llega tarde y co la talla equivocada</td>\n",
              "      <td>Devuelto</td>\n",
              "      <td>es</td>\n",
              "      <td>shoes</td>\n",
              "    </tr>\n",
              "  </tbody>\n",
              "</table>\n",
              "</div>"
            ],
            "text/plain": [
              "    review_id          product_id  ... language  product_category\n",
              "0  es_0491108  product_es_0296024  ...       es       electronics\n",
              "1  es_0869872  product_es_0922286  ...       es       electronics\n",
              "2  es_0811721  product_es_0474543  ...       es         drugstore\n",
              "3  es_0359921  product_es_0656090  ...       es          wireless\n",
              "4  es_0068940  product_es_0662544  ...       es             shoes\n",
              "\n",
              "[5 rows x 8 columns]"
            ]
          },
          "metadata": {},
          "execution_count": 5
        }
      ]
    },
    {
      "cell_type": "code",
      "metadata": {
        "colab": {
          "base_uri": "https://localhost:8080/"
        },
        "id": "kHu7AcC7jX77",
        "outputId": "055112e4-f46b-4aec-928e-90154777a346"
      },
      "source": [
        "train.isna().sum()"
      ],
      "id": "kHu7AcC7jX77",
      "execution_count": null,
      "outputs": [
        {
          "output_type": "execute_result",
          "data": {
            "text/plain": [
              "review_id           0\n",
              "product_id          0\n",
              "reviewer_id         0\n",
              "stars               0\n",
              "review_body         0\n",
              "review_title        0\n",
              "language            0\n",
              "product_category    0\n",
              "dtype: int64"
            ]
          },
          "metadata": {},
          "execution_count": 6
        }
      ]
    },
    {
      "cell_type": "code",
      "metadata": {
        "colab": {
          "base_uri": "https://localhost:8080/"
        },
        "id": "90bxq0NAFn_9",
        "outputId": "92bf9e2b-add6-4530-e5cc-7aa868bb0560"
      },
      "source": [
        "dev.isna().sum()"
      ],
      "id": "90bxq0NAFn_9",
      "execution_count": null,
      "outputs": [
        {
          "output_type": "execute_result",
          "data": {
            "text/plain": [
              "review_id           0\n",
              "product_id          0\n",
              "reviewer_id         0\n",
              "stars               0\n",
              "review_body         0\n",
              "review_title        0\n",
              "language            0\n",
              "product_category    0\n",
              "dtype: int64"
            ]
          },
          "metadata": {},
          "execution_count": 7
        }
      ]
    },
    {
      "cell_type": "code",
      "metadata": {
        "colab": {
          "base_uri": "https://localhost:8080/",
          "height": 296
        },
        "id": "97e634e7",
        "outputId": "c55edf35-e45a-4671-8759-39f1687f9ac6"
      },
      "source": [
        "sns.countplot(x = train.stars)"
      ],
      "id": "97e634e7",
      "execution_count": null,
      "outputs": [
        {
          "output_type": "execute_result",
          "data": {
            "text/plain": [
              "<matplotlib.axes._subplots.AxesSubplot at 0x7fa74e412410>"
            ]
          },
          "metadata": {},
          "execution_count": 8
        },
        {
          "output_type": "display_data",
          "data": {
            "image/png": "[encoded data removed]",
            "text/plain": [
              "<Figure size 432x288 with 1 Axes>"
            ]
          },
          "metadata": {
            "needs_background": "light"
          }
        }
      ]
    },
    {
      "cell_type": "code",
      "metadata": {
        "colab": {
          "base_uri": "https://localhost:8080/"
        },
        "id": "d1fd8f49",
        "outputId": "48f52c1a-26a9-4f01-ad5f-06cffefdc90b"
      },
      "source": [
        "test = pd.read_json('dataset_es_test.json', lines = True)\n",
        "print(test.head(), '\\n', test.shape)"
      ],
      "id": "d1fd8f49",
      "execution_count": null,
      "outputs": [
        {
          "output_type": "stream",
          "text": [
            "    review_id          product_id  ... language        product_category\n",
            "0  es_0038754  product_es_0113523  ...       es                wireless\n",
            "1  es_0748979  product_es_0017036  ...       es                    home\n",
            "2  es_0411746  product_es_0138642  ...       es                     toy\n",
            "3  es_0786686  product_es_0170887  ...       es                    home\n",
            "4  es_0429700  product_es_0710642  ...       es  digital_ebook_purchase\n",
            "\n",
            "[5 rows x 8 columns] \n",
            " (5000, 8)\n"
          ],
          "name": "stdout"
        }
      ]
    },
    {
      "cell_type": "code",
      "metadata": {
        "colab": {
          "base_uri": "https://localhost:8080/",
          "height": 350
        },
        "id": "2d326866",
        "outputId": "7a70ea13-e00b-41e2-f1ea-5cc863ccb237"
      },
      "source": [
        "sns.countplot(test.stars)"
      ],
      "id": "2d326866",
      "execution_count": null,
      "outputs": [
        {
          "output_type": "stream",
          "text": [
            "/usr/local/lib/python3.7/dist-packages/seaborn/_decorators.py:43: FutureWarning: Pass the following variable as a keyword arg: x. From version 0.12, the only valid positional argument will be `data`, and passing other arguments without an explicit keyword will result in an error or misinterpretation.\n",
            "  FutureWarning\n"
          ],
          "name": "stderr"
        },
        {
          "output_type": "execute_result",
          "data": {
            "text/plain": [
              "<matplotlib.axes._subplots.AxesSubplot at 0x7fa74a3fc2d0>"
            ]
          },
          "metadata": {},
          "execution_count": 10
        },
        {
          "output_type": "display_data",
          "data": {
            "image/png": "[encoded data removed]",
            "text/plain": [
              "<Figure size 432x288 with 1 Axes>"
            ]
          },
          "metadata": {
            "needs_background": "light"
          }
        }
      ]
    },
    {
      "cell_type": "code",
      "metadata": {
        "colab": {
          "base_uri": "https://localhost:8080/"
        },
        "id": "e5215e75",
        "outputId": "02564fc2-836f-46bc-d101-abdb0df45516"
      },
      "source": [
        "test.isna().sum()"
      ],
      "id": "e5215e75",
      "execution_count": null,
      "outputs": [
        {
          "output_type": "execute_result",
          "data": {
            "text/plain": [
              "review_id           0\n",
              "product_id          0\n",
              "reviewer_id         0\n",
              "stars               0\n",
              "review_body         0\n",
              "review_title        0\n",
              "language            0\n",
              "product_category    0\n",
              "dtype: int64"
            ]
          },
          "metadata": {},
          "execution_count": 11
        }
      ]
    },
    {
      "cell_type": "code",
      "metadata": {
        "colab": {
          "base_uri": "https://localhost:8080/",
          "height": 297
        },
        "id": "f00676eb",
        "outputId": "b96945a7-174b-43cc-ca37-9319ec068a8f"
      },
      "source": [
        "train.describe()"
      ],
      "id": "f00676eb",
      "execution_count": null,
      "outputs": [
        {
          "output_type": "execute_result",
          "data": {
            "text/html": [
              "<div>\n",
              "<style scoped>\n",
              "    .dataframe tbody tr th:only-of-type {\n",
              "        vertical-align: middle;\n",
              "    }\n",
              "\n",
              "    .dataframe tbody tr th {\n",
              "        vertical-align: top;\n",
              "    }\n",
              "\n",
              "    .dataframe thead th {\n",
              "        text-align: right;\n",
              "    }\n",
              "</style>\n",
              "<table border=\"1\" class=\"dataframe\">\n",
              "  <thead>\n",
              "    <tr style=\"text-align: right;\">\n",
              "      <th></th>\n",
              "      <th>stars</th>\n",
              "    </tr>\n",
              "  </thead>\n",
              "  <tbody>\n",
              "    <tr>\n",
              "      <th>count</th>\n",
              "      <td>200000.000000</td>\n",
              "    </tr>\n",
              "    <tr>\n",
              "      <th>mean</th>\n",
              "      <td>3.000000</td>\n",
              "    </tr>\n",
              "    <tr>\n",
              "      <th>std</th>\n",
              "      <td>1.414217</td>\n",
              "    </tr>\n",
              "    <tr>\n",
              "      <th>min</th>\n",
              "      <td>1.000000</td>\n",
              "    </tr>\n",
              "    <tr>\n",
              "      <th>25%</th>\n",
              "      <td>2.000000</td>\n",
              "    </tr>\n",
              "    <tr>\n",
              "      <th>50%</th>\n",
              "      <td>3.000000</td>\n",
              "    </tr>\n",
              "    <tr>\n",
              "      <th>75%</th>\n",
              "      <td>4.000000</td>\n",
              "    </tr>\n",
              "    <tr>\n",
              "      <th>max</th>\n",
              "      <td>5.000000</td>\n",
              "    </tr>\n",
              "  </tbody>\n",
              "</table>\n",
              "</div>"
            ],
            "text/plain": [
              "               stars\n",
              "count  200000.000000\n",
              "mean        3.000000\n",
              "std         1.414217\n",
              "min         1.000000\n",
              "25%         2.000000\n",
              "50%         3.000000\n",
              "75%         4.000000\n",
              "max         5.000000"
            ]
          },
          "metadata": {},
          "execution_count": 12
        }
      ]
    },
    {
      "cell_type": "code",
      "metadata": {
        "colab": {
          "base_uri": "https://localhost:8080/",
          "height": 297
        },
        "id": "b57eca5f",
        "outputId": "a9c4f6c3-4562-4cf9-b682-aeb95d180e4b"
      },
      "source": [
        "test.describe()"
      ],
      "id": "b57eca5f",
      "execution_count": null,
      "outputs": [
        {
          "output_type": "execute_result",
          "data": {
            "text/html": [
              "<div>\n",
              "<style scoped>\n",
              "    .dataframe tbody tr th:only-of-type {\n",
              "        vertical-align: middle;\n",
              "    }\n",
              "\n",
              "    .dataframe tbody tr th {\n",
              "        vertical-align: top;\n",
              "    }\n",
              "\n",
              "    .dataframe thead th {\n",
              "        text-align: right;\n",
              "    }\n",
              "</style>\n",
              "<table border=\"1\" class=\"dataframe\">\n",
              "  <thead>\n",
              "    <tr style=\"text-align: right;\">\n",
              "      <th></th>\n",
              "      <th>stars</th>\n",
              "    </tr>\n",
              "  </thead>\n",
              "  <tbody>\n",
              "    <tr>\n",
              "      <th>count</th>\n",
              "      <td>5000.000000</td>\n",
              "    </tr>\n",
              "    <tr>\n",
              "      <th>mean</th>\n",
              "      <td>3.000000</td>\n",
              "    </tr>\n",
              "    <tr>\n",
              "      <th>std</th>\n",
              "      <td>1.414355</td>\n",
              "    </tr>\n",
              "    <tr>\n",
              "      <th>min</th>\n",
              "      <td>1.000000</td>\n",
              "    </tr>\n",
              "    <tr>\n",
              "      <th>25%</th>\n",
              "      <td>2.000000</td>\n",
              "    </tr>\n",
              "    <tr>\n",
              "      <th>50%</th>\n",
              "      <td>3.000000</td>\n",
              "    </tr>\n",
              "    <tr>\n",
              "      <th>75%</th>\n",
              "      <td>4.000000</td>\n",
              "    </tr>\n",
              "    <tr>\n",
              "      <th>max</th>\n",
              "      <td>5.000000</td>\n",
              "    </tr>\n",
              "  </tbody>\n",
              "</table>\n",
              "</div>"
            ],
            "text/plain": [
              "             stars\n",
              "count  5000.000000\n",
              "mean      3.000000\n",
              "std       1.414355\n",
              "min       1.000000\n",
              "25%       2.000000\n",
              "50%       3.000000\n",
              "75%       4.000000\n",
              "max       5.000000"
            ]
          },
          "metadata": {},
          "execution_count": 13
        }
      ]
    },
    {
      "cell_type": "code",
      "metadata": {
        "id": "1266472c"
      },
      "source": [
        "stopwords = stopwords.words('spanish')"
      ],
      "id": "1266472c",
      "execution_count": null,
      "outputs": []
    },
    {
      "cell_type": "code",
      "metadata": {
        "id": "a8f991b7"
      },
      "source": [
        "s = train.iloc[2,4]"
      ],
      "id": "a8f991b7",
      "execution_count": null,
      "outputs": []
    },
    {
      "cell_type": "code",
      "metadata": {
        "colab": {
          "base_uri": "https://localhost:8080/",
          "height": 37
        },
        "id": "412da20b",
        "outputId": "520d1016-b596-4096-de5d-c454555315a8"
      },
      "source": [
        "words = nltk.word_tokenize(s)\n",
        "words=[word.lower() for word in words if word.isalpha()]\n",
        "s"
      ],
      "id": "412da20b",
      "execution_count": null,
      "outputs": [
        {
          "output_type": "execute_result",
          "data": {
            "application/vnd.google.colaboratory.intrinsic+json": {
              "type": "string"
            },
            "text/plain": [
              "'Te obligan a comprar dos unidades y te llega solo una y no hay forma de reclamar, una autentica estafa, no compreis!!'"
            ]
          },
          "metadata": {},
          "execution_count": 16
        }
      ]
    },
    {
      "cell_type": "code",
      "metadata": {
        "colab": {
          "base_uri": "https://localhost:8080/"
        },
        "id": "2df1d247",
        "outputId": "b03ff0fa-a3fb-4a6f-9e82-ba1f934ed306"
      },
      "source": [
        "words"
      ],
      "id": "2df1d247",
      "execution_count": null,
      "outputs": [
        {
          "output_type": "execute_result",
          "data": {
            "text/plain": [
              "['te',\n",
              " 'obligan',\n",
              " 'a',\n",
              " 'comprar',\n",
              " 'dos',\n",
              " 'unidades',\n",
              " 'y',\n",
              " 'te',\n",
              " 'llega',\n",
              " 'solo',\n",
              " 'una',\n",
              " 'y',\n",
              " 'no',\n",
              " 'hay',\n",
              " 'forma',\n",
              " 'de',\n",
              " 'reclamar',\n",
              " 'una',\n",
              " 'autentica',\n",
              " 'estafa',\n",
              " 'no',\n",
              " 'compreis']"
            ]
          },
          "metadata": {},
          "execution_count": 17
        }
      ]
    },
    {
      "cell_type": "code",
      "metadata": {
        "colab": {
          "base_uri": "https://localhost:8080/"
        },
        "id": "78a3a8ed",
        "outputId": "95d47447-64b4-472f-e102-e39a616cffc6"
      },
      "source": [
        "titular_wt_sin_sw = [p for p in words if p not in stopwords]\n",
        "titular_wt_sin_sw"
      ],
      "id": "78a3a8ed",
      "execution_count": null,
      "outputs": [
        {
          "output_type": "execute_result",
          "data": {
            "text/plain": [
              "['obligan',\n",
              " 'comprar',\n",
              " 'dos',\n",
              " 'unidades',\n",
              " 'llega',\n",
              " 'solo',\n",
              " 'forma',\n",
              " 'reclamar',\n",
              " 'autentica',\n",
              " 'estafa',\n",
              " 'compreis']"
            ]
          },
          "metadata": {},
          "execution_count": 18
        }
      ]
    },
    {
      "cell_type": "markdown",
      "metadata": {
        "id": "5622bf05"
      },
      "source": [
        "FUNCA BIEN, TRATEMOS DE VER QUE ONDA TRANSFORMANDO TODOS LOS DATOS DE TRAIN Y CONTANDO CRECUENCIAS\n",
        "\n",
        "VAMOS A PROBAR CON EL TITULO, QUE PARECE ESTAR DANDO INFORMACION IMPORTANTE. eS MAS CORTO, CAPAZ ES MEJOR."
      ],
      "id": "5622bf05"
    },
    {
      "cell_type": "code",
      "metadata": {
        "id": "5109377f"
      },
      "source": [
        "def stemmer(array):\n",
        "    stemm = []\n",
        "\n",
        "    for i in range(array.shape[0]):\n",
        "        titular = array.iloc[i].review_title #seleccionar el titular\n",
        "        words = nltk.word_tokenize(titular)\n",
        "        titular = [word.lower() for word in words if word.isalpha()]\n",
        "        titular = [x for x in titular if x not in stopwords] # Filtrar por stopwords\n",
        "        titular = [PorterStemmer().stem(x) for x in titular]\n",
        "        titular = \" \".join(titular)\n",
        "        stemm.append(titular)\n",
        "    return stemm"
      ],
      "id": "5109377f",
      "execution_count": null,
      "outputs": []
    },
    {
      "cell_type": "code",
      "metadata": {
        "id": "855a500f"
      },
      "source": [
        "stemm_train = stemmer(train)"
      ],
      "id": "855a500f",
      "execution_count": null,
      "outputs": []
    },
    {
      "cell_type": "code",
      "metadata": {
        "colab": {
          "base_uri": "https://localhost:8080/"
        },
        "id": "b931b531",
        "outputId": "1700f78a-ac7b-4250-8076-a89c6544a6e3"
      },
      "source": [
        "train[\"stemm_title\"] = stemm_train\n",
        "print(train.head(), train.tail())"
      ],
      "id": "b931b531",
      "execution_count": null,
      "outputs": [
        {
          "output_type": "stream",
          "text": [
            "    review_id  ...                           stemm_title\n",
            "0  es_0491108  ...                         televis nevir\n",
            "1  es_0869872  ...           dinero tirado basura compra\n",
            "2  es_0811721  ...  solo llega unidad obligan comprar do\n",
            "3  es_0359921  ...                     producto recibido\n",
            "4  es_0068940  ...                              devuelto\n",
            "\n",
            "[5 rows x 9 columns]          review_id          product_id  ... product_category            stemm_title\n",
            "199995  es_0715276  product_es_0317036  ...      electronics            tal describ\n",
            "199996  es_0085190  product_es_0622919  ...      electronics  funciona perfectament\n",
            "199997  es_0484496  product_es_0358101  ...          apparel          buena calidad\n",
            "199998  es_0930141  product_es_0788855  ...              toy            recomendado\n",
            "199999  es_0859809  product_es_0378794  ...             home               preciosa\n",
            "\n",
            "[5 rows x 9 columns]\n"
          ],
          "name": "stdout"
        }
      ]
    },
    {
      "cell_type": "markdown",
      "metadata": {
        "id": "5166d3da"
      },
      "source": [
        "vemos que hay problemas con algunos de los stemms. NLTK no lemmatiza sobre español, asique vamos a ver que onda con los modelos y sino usamos Spacy"
      ],
      "id": "5166d3da"
    },
    {
      "cell_type": "markdown",
      "metadata": {
        "id": "5fe33608"
      },
      "source": [
        "Normalizamos y stemmizamos los titulos de test."
      ],
      "id": "5fe33608"
    },
    {
      "cell_type": "code",
      "metadata": {
        "colab": {
          "base_uri": "https://localhost:8080/"
        },
        "id": "b0f2f83d",
        "outputId": "7287d866-76ab-4d2f-8080-70303f8d75fc"
      },
      "source": [
        "stemm_test = stemmer(test)\n",
        "test[\"stemm_title\"] = stemm_test\n",
        "print(test.head(), test.tail())\n",
        "\n",
        "stemm_dev = stemmer(dev)\n",
        "dev[\"stemm_title\"] = stemm_test\n",
        "dev = dev[['review_title', 'stemm_title', 'stars']]\n",
        "print(test.head(), test.tail())"
      ],
      "id": "b0f2f83d",
      "execution_count": null,
      "outputs": [
        {
          "output_type": "stream",
          "text": [
            "    review_id  ...                   stemm_title\n",
            "0  es_0038754  ...                         llego\n",
            "1  es_0748979  ...   amazon sigu cumplir entrega\n",
            "2  es_0411746  ...                  estafa envío\n",
            "3  es_0786686  ...                 estafa amazon\n",
            "4  es_0429700  ...  conseguí pasar portada kindl\n",
            "\n",
            "[5 rows x 9 columns]        review_id  ...                 stemm_title\n",
            "4995  es_0685611  ...             perfecto sirven\n",
            "4996  es_0638242  ...  buen vendedor rápido fiabl\n",
            "4997  es_0760108  ...      medalla bonito grabado\n",
            "4998  es_0070806  ...                       timbr\n",
            "4999  es_0794544  ...       auricular cabl verdad\n",
            "\n",
            "[5 rows x 9 columns]\n",
            "    review_id  ...                   stemm_title\n",
            "0  es_0038754  ...                         llego\n",
            "1  es_0748979  ...   amazon sigu cumplir entrega\n",
            "2  es_0411746  ...                  estafa envío\n",
            "3  es_0786686  ...                 estafa amazon\n",
            "4  es_0429700  ...  conseguí pasar portada kindl\n",
            "\n",
            "[5 rows x 9 columns]        review_id  ...                 stemm_title\n",
            "4995  es_0685611  ...             perfecto sirven\n",
            "4996  es_0638242  ...  buen vendedor rápido fiabl\n",
            "4997  es_0760108  ...      medalla bonito grabado\n",
            "4998  es_0070806  ...                       timbr\n",
            "4999  es_0794544  ...       auricular cabl verdad\n",
            "\n",
            "[5 rows x 9 columns]\n"
          ],
          "name": "stdout"
        }
      ]
    },
    {
      "cell_type": "code",
      "metadata": {
        "id": "b274b78f"
      },
      "source": [
        "X_train = train[['stemm_title', 'stars']]\n",
        "X_dev = dev[['stemm_title', 'stars']]\n",
        "X_test = test[['stemm_title', 'stars']]"
      ],
      "id": "b274b78f",
      "execution_count": null,
      "outputs": []
    },
    {
      "cell_type": "code",
      "metadata": {
        "id": "50da99dd"
      },
      "source": [
        "list_titulos_train = list(X_train['stemm_title'].values)\n",
        "stars_train = X_train['stars'].values"
      ],
      "id": "50da99dd",
      "execution_count": null,
      "outputs": []
    },
    {
      "cell_type": "code",
      "metadata": {
        "id": "ab1aa6cb"
      },
      "source": [
        "list_titulos_test = list(X_test['stemm_title'].values)\n",
        "stars_test = X_test['stars'].values"
      ],
      "id": "ab1aa6cb",
      "execution_count": null,
      "outputs": []
    },
    {
      "cell_type": "code",
      "metadata": {
        "id": "d806f5d4"
      },
      "source": [
        "list_titulos_dev = list(X_dev['stemm_title'].values)\n",
        "stars_dev = X_dev['stars'].values"
      ],
      "id": "d806f5d4",
      "execution_count": null,
      "outputs": []
    },
    {
      "cell_type": "code",
      "metadata": {
        "id": "d0ae2e3e"
      },
      "source": [
        "# Usaremos solo las 1000 palabras con mas frecuencia en todo el corpus para generar los vectores\n",
        "max_features=1000\n",
        "\n",
        "# Es decir que cada instancia tendrá 1000 features\n",
        "cou_vec=CountVectorizer(max_features=max_features) "
      ],
      "id": "d0ae2e3e",
      "execution_count": null,
      "outputs": []
    },
    {
      "cell_type": "code",
      "metadata": {
        "colab": {
          "base_uri": "https://localhost:8080/"
        },
        "id": "75312b47",
        "outputId": "ba6a93f1-e6ed-4baa-f4f7-af0c25510179"
      },
      "source": [
        "matriz_titulos_train = cou_vec.fit_transform(list_titulos_train)\n",
        "matriz_titulos_test = cou_vec.fit_transform(list_titulos_test)\n",
        "matriz_titulos_dev = cou_vec.fit_transform(list_titulos_dev)\n",
        "\n",
        "# Tomamos las palabras\n",
        "all_words = cou_vec.get_feature_names()\n",
        "\n",
        "# Vizualizamos las 50 palabras mas usadas\n",
        "print(\"50 palabras mas usadas: \",all_words[0:50])"
      ],
      "id": "75312b47",
      "execution_count": null,
      "outputs": [
        {
          "output_type": "stream",
          "text": [
            "50 palabras mas usadas:  ['abierta', 'abierto', 'acabado', 'aceit', 'acept', 'acierto', 'acopla', 'acuario', 'adapta', 'adaptador', 'adecuada', 'adecuado', 'adhesivo', 'adulto', 'agrad', 'agua', 'ajusta', 'alarma', 'alfombrilla', 'alguna', 'altavoz', 'alto', 'amazon', 'ana', 'ancho', 'antena', 'anti', 'antonio', 'anuncia', 'anuncio', 'aparato', 'appl', 'apuro', 'articulo', 'artículo', 'asequ', 'aspecto', 'atención', 'atractivo', 'audio', 'aunqu', 'azul', 'año', 'aún', 'baja', 'band', 'barata', 'barato', 'base', 'bastant']\n"
          ],
          "name": "stdout"
        }
      ]
    },
    {
      "cell_type": "markdown",
      "metadata": {
        "id": "eb411222"
      },
      "source": [
        "Esta acaba y acabado, alta, altura y alto, : no anda bien el stemming con nltk\n"
      ],
      "id": "eb411222"
    },
    {
      "cell_type": "code",
      "metadata": {
        "colab": {
          "base_uri": "https://localhost:8080/"
        },
        "id": "dc83a212",
        "outputId": "a82aea02-3c24-43fe-ea1f-a27202523b88"
      },
      "source": [
        "xtrain = matriz_titulos_train.toarray()\n",
        "ytrain = stars_train\n",
        "xtest = matriz_titulos_test.toarray()\n",
        "ytest = stars_test\n",
        "xdev = matriz_titulos_dev.toarray()\n",
        "ydev = stars_dev\n",
        "\n",
        "xtrain.shape"
      ],
      "id": "dc83a212",
      "execution_count": null,
      "outputs": [
        {
          "output_type": "execute_result",
          "data": {
            "text/plain": [
              "(200000, 1000)"
            ]
          },
          "metadata": {},
          "execution_count": 29
        }
      ]
    },
    {
      "cell_type": "code",
      "metadata": {
        "id": "cfb28d94"
      },
      "source": [
        "def confusion(ytest,y_pred):\n",
        "    names=[\"1\",\"2\",'3','4','5']\n",
        "    cm=confusion_matrix(ytest,y_pred)\n",
        "    f,ax=plt.subplots(figsize=(5,5))\n",
        "    sns.heatmap(cm,annot=True,linewidth=.5,linecolor=\"r\",fmt=\".0f\",ax=ax)\n",
        "    plt.xlabel(\"y_pred\")\n",
        "    plt.ylabel(\"y_true\")\n",
        "    ax.set_xticklabels(names)\n",
        "    ax.set_yticklabels(names)\n",
        "    plt.show()\n",
        "    return"
      ],
      "id": "cfb28d94",
      "execution_count": null,
      "outputs": []
    },
    {
      "cell_type": "code",
      "metadata": {
        "id": "DcaoWFF2mpAX"
      },
      "source": [
        "def tokener(array):\n",
        "    tokener = []\n",
        "\n",
        "    for i in range(array.shape[0]):\n",
        "        titular = array.iloc[i].review_title #seleccionar el titular\n",
        "        titular = re.sub(\n",
        "        r\"([^n\\u0300-\\u036f]|n(?!\\u0303(?![\\u0300-\\u036f])))[\\u0300-\\u036f]+\", r\"\\1\", \n",
        "        normalize( \"NFD\", titular), 0, re.I\n",
        "        )\n",
        "        titular = normalize( 'NFC', titular)\n",
        "        words = nltk.word_tokenize(titular)\n",
        "        titular = [word.lower() for word in words if word.isalpha()]\n",
        "        titular = [x for x in titular if x not in stopwords] # Filtrar por stopwords\n",
        "        titular = [PorterStemmer().stem(x) for x in titular]\n",
        "        tokener.append(titular)\n",
        "    return tokener"
      ],
      "id": "DcaoWFF2mpAX",
      "execution_count": null,
      "outputs": []
    },
    {
      "cell_type": "code",
      "metadata": {
        "id": "fTAHff3AnABO"
      },
      "source": [
        "xtrain = tokener(train)"
      ],
      "id": "fTAHff3AnABO",
      "execution_count": null,
      "outputs": []
    },
    {
      "cell_type": "code",
      "metadata": {
        "id": "Bp60frVMnAKv"
      },
      "source": [
        "xtest = tokener(test)\n",
        "xdev = tokener(dev)"
      ],
      "id": "Bp60frVMnAKv",
      "execution_count": null,
      "outputs": []
    },
    {
      "cell_type": "code",
      "metadata": {
        "id": "bc91491c"
      },
      "source": [
        "def dummy_fun(doc):\n",
        "    return doc\n",
        "\n",
        "tfidf = TfidfVectorizer(\n",
        "    analyzer='word',\n",
        "    tokenizer=dummy_fun,\n",
        "    preprocessor=dummy_fun,\n",
        "    token_pattern=None)  \n",
        "\n",
        "xtrain_tfidf = tfidf.fit_transform(xtrain)\n",
        "xtest_tfidf = tfidf.transform(xtest)\n",
        "xdev_tfidf = tfidf.transform(xdev)"
      ],
      "id": "bc91491c",
      "execution_count": null,
      "outputs": []
    },
    {
      "cell_type": "code",
      "metadata": {
        "id": "CJbpPTcxprFC"
      },
      "source": [
        "#xgb = XGBClassifier(n_estimators = 1000,\n",
        "#                    max_depth = 3,\n",
        "#                    learning_rate = 0.1,\n",
        "#                   tree_method='gpu_hist')\n",
        "#xgb.fit(xtrain_tfidf,ytrain)\n",
        "#y_tr_p = xgb.predict(xtrain_tfidf)\n",
        "#y_d_p = xgb.predict(xdev_tfidf)\n",
        "#print(accuracy_score(ydev, y_d_p))\n",
        "#confusion(ytest, y_d_p)"
      ],
      "id": "CJbpPTcxprFC",
      "execution_count": null,
      "outputs": []
    },
    {
      "cell_type": "code",
      "metadata": {
        "id": "BEipylaUtaYA"
      },
      "source": [
        "import spacy\n",
        "import string\n",
        "from spacy.lang.es import Spanish\n",
        "from sklearn.base import TransformerMixin\n",
        "from sklearn.pipeline import Pipeline\n",
        "from spacy.lang.es.stop_words import STOP_WORDS"
      ],
      "id": "BEipylaUtaYA",
      "execution_count": null,
      "outputs": []
    },
    {
      "cell_type": "code",
      "metadata": {
        "id": "yYc13POCn11u"
      },
      "source": [
        "nlp = spacy.load('es_core_news_sm')\n",
        "stopwords = nlp.Defaults.stop_words"
      ],
      "id": "yYc13POCn11u",
      "execution_count": null,
      "outputs": []
    },
    {
      "cell_type": "code",
      "metadata": {
        "id": "E6EiqDo140vQ"
      },
      "source": [
        "def spacy_tokenizer(sentence):\n",
        "    # Creating our token object, which is used to create documents with linguistic annotations.\n",
        "    mytokens = re.sub(\n",
        "        r\"([^n\\u0300-\\u036f]|n(?!\\u0303(?![\\u0300-\\u036f])))[\\u0300-\\u036f]+\", r\"\\1\", \n",
        "        normalize( \"NFD\", sentence), 0, re.I\n",
        "        )\n",
        "    mytokens = normalize( 'NFC', mytokens)\n",
        "    mytokens = nlp(mytokens)\n",
        "\n",
        "    # Lemmatizing each token and converting each token into lowercase\n",
        "    mytokens = [ word.lemma_.lower().strip() if word.lemma_ != \"-PRON-\" else word.lower_ for word in mytokens ]\n",
        "\n",
        "    # Removing stop words\n",
        "    mytokens = [ word for word in mytokens if word not in stopwords]\n",
        "\n",
        "    # return preprocessed list of tokens\n",
        "    return mytokens\n",
        "\n",
        "class predictors(TransformerMixin):\n",
        "    def transform(self, X, **transform_params):\n",
        "        # Cleaning Text\n",
        "        return [clean_text(text) for text in X]\n",
        "\n",
        "    def fit(self, X, y=None, **fit_params):\n",
        "        return self\n",
        "\n",
        "    def get_params(self, deep=True):\n",
        "        return {}\n",
        "\n",
        "# Basic function to clean the text\n",
        "def clean_text(text):\n",
        "    # Removing spaces and converting text into lowercase\n",
        "    return text.strip().lower()"
      ],
      "id": "E6EiqDo140vQ",
      "execution_count": null,
      "outputs": []
    },
    {
      "cell_type": "code",
      "metadata": {
        "id": "yHoQT2yBAp-f"
      },
      "source": [
        "bow_vector = CountVectorizer(tokenizer = spacy_tokenizer, ngram_range=(1,1))"
      ],
      "id": "yHoQT2yBAp-f",
      "execution_count": null,
      "outputs": []
    },
    {
      "cell_type": "code",
      "metadata": {
        "id": "GM6AJpfaDBBe"
      },
      "source": [
        "nlp = spacy.load('es_core_news_sm')\n",
        "tfidf_vector = TfidfVectorizer(tokenizer = spacy_tokenizer)"
      ],
      "id": "GM6AJpfaDBBe",
      "execution_count": null,
      "outputs": []
    },
    {
      "cell_type": "code",
      "metadata": {
        "id": "Scblj6_xGmN_"
      },
      "source": [
        "from sklearn.ensemble import RandomForestClassifier\n",
        "dev = pd.read_json('dataset_es_dev.json', lines = True)\n",
        "X = train.review_body\n",
        "y = train.stars\n",
        "Xdev = dev.review_body\n",
        "ydev = dev.stars\n",
        "classifier = RandomForestClassifier()"
      ],
      "id": "Scblj6_xGmN_",
      "execution_count": null,
      "outputs": []
    },
    {
      "cell_type": "code",
      "metadata": {
        "id": "YSaC_2ACHdZE"
      },
      "source": [
        "pipe = Pipeline([(\"cleaner\", predictors()),\n",
        "                 ('vectorizer', bow_vector),\n",
        "                 ('classifier', classifier)])"
      ],
      "id": "YSaC_2ACHdZE",
      "execution_count": null,
      "outputs": []
    },
    {
      "cell_type": "code",
      "metadata": {
        "id": "NO6_J-oLIboQ"
      },
      "source": [
        "from sklearn import metrics\n",
        "from sklearn.model_selection import train_test_split\n",
        "# Predicting with a test dataset\n",
        "pipe.fit(X, y)\n",
        "predicted = pipe.predict(Xdev)"
      ],
      "id": "NO6_J-oLIboQ",
      "execution_count": null,
      "outputs": []
    },
    {
      "cell_type": "code",
      "metadata": {
        "colab": {
          "base_uri": "https://localhost:8080/",
          "height": 403
        },
        "id": "j9M_w2L88gdy",
        "outputId": "54db640a-b5fd-4cee-9569-d6b8228e6ba5"
      },
      "source": [
        "print(confusion(ydev, predicted))\n",
        "print(\"RF Classifier Accuracy:\",metrics.accuracy_score(ydev, predicted))\n",
        "print(\"RF Classifier Precision:\",metrics.precision_score(ydev, predicted, average  = 'weighted'))\n",
        "print(\"RF Classifier Recall:\",metrics.recall_score(ydev, predicted, average = 'weighted'))"
      ],
      "id": "j9M_w2L88gdy",
      "execution_count": null,
      "outputs": [
        {
          "output_type": "display_data",
          "data": {
            "image/png": "[encoded data removed]",
            "text/plain": [
              "<Figure size 360x360 with 2 Axes>"
            ]
          },
          "metadata": {
            "needs_background": "light"
          }
        },
        {
          "output_type": "stream",
          "text": [
            "None\n",
            "RF Classifier Accuracy: 0.439\n",
            "RF Classifier Precision: 0.4242287677920479\n",
            "RF Classifier Recall: 0.439\n"
          ],
          "name": "stdout"
        }
      ]
    },
    {
      "cell_type": "code",
      "metadata": {
        "id": "Cxq-TPqgJd2H"
      },
      "source": [
        "y = (y >= 4).astype(int)"
      ],
      "id": "Cxq-TPqgJd2H",
      "execution_count": null,
      "outputs": []
    },
    {
      "cell_type": "code",
      "metadata": {
        "id": "qqnK2FwglDJS"
      },
      "source": [
        "ydev = (ydev >= 4).astype(int)"
      ],
      "id": "qqnK2FwglDJS",
      "execution_count": null,
      "outputs": []
    },
    {
      "cell_type": "code",
      "metadata": {
        "id": "QcBy1J37XNiW"
      },
      "source": [
        "pipe.fit(X,y)\n",
        "predicted2 = pipe.predict(Xdev)"
      ],
      "id": "QcBy1J37XNiW",
      "execution_count": null,
      "outputs": []
    },
    {
      "cell_type": "code",
      "metadata": {
        "id": "aGoNrdbFX6US",
        "colab": {
          "base_uri": "https://localhost:8080/",
          "height": 403
        },
        "outputId": "8c085195-25c9-4cfc-cbb7-48ef78f7a11a"
      },
      "source": [
        "print(confusion(ydev, predicted2))\n",
        "print(\"RF Classifier Accuracy:\",metrics.accuracy_score(ydev, predicted2))\n",
        "print(\"RF Classifier Precision:\",metrics.precision_score(ydev, predicted2))\n",
        "print(\"RF Classifier Recall:\",metrics.recall_score(ydev, predicted2))"
      ],
      "id": "aGoNrdbFX6US",
      "execution_count": null,
      "outputs": [
        {
          "output_type": "display_data",
          "data": {
            "image/png": "[encoded data removed]",
            "text/plain": [
              "<Figure size 360x360 with 2 Axes>"
            ]
          },
          "metadata": {
            "needs_background": "light"
          }
        },
        {
          "output_type": "stream",
          "text": [
            "None\n",
            "RF Classifier Accuracy: 0.7934\n",
            "RF Classifier Precision: 0.76697956929873\n",
            "RF Classifier Recall: 0.6945\n"
          ],
          "name": "stdout"
        }
      ]
    },
    {
      "cell_type": "code",
      "metadata": {
        "id": "hmccw_XcK9CR"
      },
      "source": [
        "import lightgbm as lgb \n",
        "classifier = lgb.LGBMClassifier()\n",
        "pipe.fit(X, y)\n",
        "predicted3 = pipe.predict(Xdev)"
      ],
      "id": "hmccw_XcK9CR",
      "execution_count": null,
      "outputs": []
    },
    {
      "cell_type": "code",
      "metadata": {
        "colab": {
          "base_uri": "https://localhost:8080/",
          "height": 403
        },
        "id": "zstGoRwjL6UV",
        "outputId": "190135cc-daf7-4079-d94e-ef82e433e56b"
      },
      "source": [
        "print(confusion(ydev, predicted3))\n",
        "print(\"RF Classifier Accuracy:\",metrics.accuracy_score(ydev, predicted3))\n",
        "print(\"RF Classifier Precision:\",metrics.precision_score(ydev, predicted3))\n",
        "print(\"RF Classifier Recall:\",metrics.recall_score(ydev, predicted3))"
      ],
      "id": "zstGoRwjL6UV",
      "execution_count": null,
      "outputs": [
        {
          "output_type": "display_data",
          "data": {
            "image/png": "[encoded data removed]",
            "text/plain": [
              "<Figure size 360x360 with 2 Axes>"
            ]
          },
          "metadata": {
            "needs_background": "light"
          }
        },
        {
          "output_type": "stream",
          "text": [
            "None\n",
            "RF Classifier Accuracy: 0.7908\n",
            "RF Classifier Precision: 0.7658862876254181\n",
            "RF Classifier Recall: 0.687\n"
          ],
          "name": "stdout"
        }
      ]
    },
    {
      "cell_type": "code",
      "metadata": {
        "id": "oseM2yzBL-67"
      },
      "source": [
        ""
      ],
      "id": "oseM2yzBL-67",
      "execution_count": null,
      "outputs": []
    }
  ]
}